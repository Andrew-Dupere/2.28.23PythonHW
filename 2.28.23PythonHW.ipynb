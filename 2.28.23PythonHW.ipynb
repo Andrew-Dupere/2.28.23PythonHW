{
 "cells": [
  {
   "cell_type": "markdown",
   "id": "6721c7b2",
   "metadata": {},
   "source": [
    "Exercise 1 - Turn the shopping cart program into an object-oriented program"
   ]
  },
  {
   "cell_type": "code",
   "execution_count": null,
   "id": "9558b754",
   "metadata": {},
   "outputs": [],
   "source": [
    "\n",
    "class Cart():\n",
    "    def __init__(self, cust_name):\n",
    "        self.cust_name = cust_name\n",
    "\n",
    "        self.cart = []\n",
    "    \n",
    "    def add(self,item):\n",
    "        self.cart.append(item)\n",
    "         \n",
    "    def showcart(self):\n",
    "        print(f\"Cart {self.cart}\")\n",
    "              \n",
    "    def remove_(self,item):\n",
    "        self.cart.remove(item)\n",
    "        print(f\"{item} has been removed from the cart\")\n",
    "    \n",
    "\n",
    "\n",
    "def run():\n",
    "    cust_name = input(\"what is your name?\")\n",
    "    mycart = Cart(cust_name)\n",
    "    while True:\n",
    "        ask = input(\"what do you want to do? add/remove/show/quit\").lower()\n",
    "        if ask == 'quit':\n",
    "            break\n",
    "        elif ask == 'add':\n",
    "            item = input(\"what would you like to add?\")\n",
    "            mycart.add(item)\n",
    "        elif ask == 'remove':\n",
    "            item = input(\"what would you like to remove?\")\n",
    "            mycart.remove_(item)\n",
    "        elif ask == 'show':\n",
    "            mycart.showcart()\n",
    "\n"
   ]
  },
  {
   "cell_type": "markdown",
   "id": "0278c105",
   "metadata": {},
   "source": [
    "Exercise 2 - Write a Python class for an Animal that has a name and energy attributes. The animal class should also have methods for eat, sleep, and play that will take in an integer and increase/decrease the energy of the animal with a formatted print statement"
   ]
  },
  {
   "cell_type": "code",
   "execution_count": null,
   "id": "ec0e5f08",
   "metadata": {},
   "outputs": [],
   "source": [
    "class Animal:\n",
    "    \n",
    "    def __init__(self,name,energy):\n",
    "        self.name = name\n",
    "        self.energy = energy\n",
    "    \n",
    "    def eat(self,amount_of_food):\n",
    "        self.energy += amount_of_food\n",
    "        print(f\"{self.name} just ate and their energy has increased to to {self.energy}\")\n",
    "    \n",
    "    def sleep(self,time):\n",
    "        self.energy += time\n",
    "        print(f\"{self.name} just slept and their energy has increased to to {self.energy}\")\n",
    "        \n",
    "    def play(self,time):\n",
    "        self.energy -= time\n",
    "        print(f\"{self.name} just played and their energy has decreased to to {self.energy}\")\n",
    "        "
   ]
  }
 ],
 "metadata": {
  "kernelspec": {
   "display_name": "Python 3 (ipykernel)",
   "language": "python",
   "name": "python3"
  },
  "language_info": {
   "codemirror_mode": {
    "name": "ipython",
    "version": 3
   },
   "file_extension": ".py",
   "mimetype": "text/x-python",
   "name": "python",
   "nbconvert_exporter": "python",
   "pygments_lexer": "ipython3",
   "version": "3.9.13"
  }
 },
 "nbformat": 4,
 "nbformat_minor": 5
}
